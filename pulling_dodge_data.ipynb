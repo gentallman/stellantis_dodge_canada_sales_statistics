{
 "cells": [
  {
   "cell_type": "code",
   "execution_count": 1,
   "id": "df75ed09",
   "metadata": {},
   "outputs": [],
   "source": [
    "import pandas as pd\n",
    "import requests\n",
    "from io import StringIO"
   ]
  },
  {
   "cell_type": "markdown",
   "id": "7c331c6e",
   "metadata": {},
   "source": [
    "## Dodge Challenger"
   ]
  },
  {
   "cell_type": "code",
   "execution_count": 2,
   "id": "288151dd",
   "metadata": {},
   "outputs": [],
   "source": [
    "url = 'https://carfigures.com/canada-market-brand/dodge/challenger'\n",
    "headers = {\n",
    "    'User-Agent': 'Mozilla/5.0 (Windows NT 10.0; Win64; x64) AppleWebKit/537.36 (KHTML, like Gecko) Chrome/58.0.3029.110 Safari/537.3'\n",
    "}\n",
    "\n",
    "response = requests.get(url, headers=headers)\n",
    "if response.status_code == 200:\n",
    "    df_list = pd.read_html(StringIO(response.text))\n",
    "else:\n",
    "    print(f\"Failed to retrieve the webpage. Status code: {response.status_code}\")"
   ]
  },
  {
   "cell_type": "code",
   "execution_count": 3,
   "id": "fd65f2e9",
   "metadata": {},
   "outputs": [],
   "source": [
    "challenger_month = df_list[0]\n",
    "challenger_quarter = df_list[1]\n",
    "challenger_year = df_list[2]\n",
    "\n",
    "challenger_month.to_csv('month/challenger_month.csv', index=False)\n",
    "challenger_quarter.to_csv('quarter/challenger_quarter.csv', index=False)\n",
    "challenger_year.to_csv('year/challenger_year.csv', index=False)"
   ]
  },
  {
   "cell_type": "markdown",
   "id": "ad73964a",
   "metadata": {},
   "source": [
    "## Dodge Charger"
   ]
  },
  {
   "cell_type": "code",
   "execution_count": 4,
   "id": "79d4ea64",
   "metadata": {},
   "outputs": [],
   "source": [
    "url = 'https://carfigures.com/canada-market-brand/dodge/charger'\n",
    "headers = {\n",
    "    'User-Agent': 'Mozilla/5.0 (Windows NT 10.0; Win64; x64) AppleWebKit/537.36 (KHTML, like Gecko) Chrome/58.0.3029.110 Safari/537.3'\n",
    "}\n",
    "\n",
    "response = requests.get(url, headers=headers)\n",
    "if response.status_code == 200:\n",
    "    df_list = pd.read_html(StringIO(response.text))\n",
    "else:\n",
    "    print(f\"Failed to retrieve the webpage. Status code: {response.status_code}\")"
   ]
  },
  {
   "cell_type": "code",
   "execution_count": 5,
   "id": "ea888a9d",
   "metadata": {},
   "outputs": [],
   "source": [
    "charger_month = df_list[0]\n",
    "charger_quarter = df_list[1]\n",
    "charger_year = df_list[2]\n",
    "\n",
    "charger_month.to_csv('month/charger_month.csv', index=False)\n",
    "charger_quarter.to_csv('quarter/charger_quarter.csv', index=False)\n",
    "charger_year.to_csv('year/charger_year.csv', index=False)"
   ]
  },
  {
   "cell_type": "markdown",
   "id": "5e67543d",
   "metadata": {},
   "source": [
    "## Dodge Durango"
   ]
  },
  {
   "cell_type": "code",
   "execution_count": 6,
   "id": "0d190731",
   "metadata": {},
   "outputs": [],
   "source": [
    "url = 'https://carfigures.com/canada-market-brand/dodge/durango'\n",
    "headers = {\n",
    "    'User-Agent': 'Mozilla/5.0 (Windows NT 10.0; Win64; x64) AppleWebKit/537.36 (KHTML, like Gecko) Chrome/58.0.3029.110 Safari/537.3'\n",
    "}\n",
    "\n",
    "response = requests.get(url, headers=headers)\n",
    "if response.status_code == 200:\n",
    "    df_list = pd.read_html(StringIO(response.text))\n",
    "else:\n",
    "    print(f\"Failed to retrieve the webpage. Status code: {response.status_code}\")"
   ]
  },
  {
   "cell_type": "code",
   "execution_count": 7,
   "id": "c7a528a1",
   "metadata": {},
   "outputs": [],
   "source": [
    "durango_month = df_list[0]\n",
    "durango_quarter = df_list[1]\n",
    "durango_year = df_list[2]\n",
    "\n",
    "durango_month.to_csv('month/durango_month.csv', index=False)\n",
    "durango_quarter.to_csv('quarter/durango_quarter.csv', index=False)\n",
    "durango_year.to_csv('year/durango_year.csv', index=False)"
   ]
  },
  {
   "cell_type": "markdown",
   "id": "bbe5398c",
   "metadata": {},
   "source": [
    "## Dodge Grand Carvan"
   ]
  },
  {
   "cell_type": "code",
   "execution_count": 8,
   "id": "52ff7e4e",
   "metadata": {},
   "outputs": [],
   "source": [
    "url = 'https://carfigures.com/canada-market-brand/dodge/grand-caravan'\n",
    "headers = {\n",
    "    'User-Agent': 'Mozilla/5.0 (Windows NT 10.0; Win64; x64) AppleWebKit/537.36 (KHTML, like Gecko) Chrome/58.0.3029.110 Safari/537.3'\n",
    "}\n",
    "\n",
    "response = requests.get(url, headers=headers)\n",
    "if response.status_code == 200:\n",
    "    df_list = pd.read_html(StringIO(response.text))\n",
    "else:\n",
    "    print(f\"Failed to retrieve the webpage. Status code: {response.status_code}\")"
   ]
  },
  {
   "cell_type": "code",
   "execution_count": 9,
   "id": "00d77f28",
   "metadata": {},
   "outputs": [],
   "source": [
    "grand_carvan_month = df_list[0]\n",
    "grand_carvan_quarter = df_list[1]\n",
    "grand_carvan_year = df_list[2]\n",
    "\n",
    "grand_carvan_month.to_csv('month/grand_carvan_month.csv', index=False)\n",
    "grand_carvan_quarter.to_csv('quarter/grand_carvan_quarter.csv', index=False)\n",
    "grand_carvan_year.to_csv('year/grand_carvan_year.csv', index=False)"
   ]
  },
  {
   "cell_type": "markdown",
   "id": "dbc684c1",
   "metadata": {},
   "source": [
    "## Dodge Journey"
   ]
  },
  {
   "cell_type": "code",
   "execution_count": 10,
   "id": "02c52726",
   "metadata": {},
   "outputs": [],
   "source": [
    "url = 'https://carfigures.com/canada-market-brand/dodge/journey'\n",
    "headers = {\n",
    "    'User-Agent': 'Mozilla/5.0 (Windows NT 10.0; Win64; x64) AppleWebKit/537.36 (KHTML, like Gecko) Chrome/58.0.3029.110 Safari/537.3'\n",
    "}\n",
    "\n",
    "response = requests.get(url, headers=headers)\n",
    "if response.status_code == 200:\n",
    "    df_list = pd.read_html(StringIO(response.text))\n",
    "else:\n",
    "    print(f\"Failed to retrieve the webpage. Status code: {response.status_code}\")"
   ]
  },
  {
   "cell_type": "code",
   "execution_count": 11,
   "id": "4c08d6ac",
   "metadata": {},
   "outputs": [],
   "source": [
    "journey_month = df_list[0]\n",
    "journey_quarter = df_list[1]\n",
    "journey_year = df_list[2]\n",
    "\n",
    "journey_month.to_csv('month/journey_month.csv', index=False)\n",
    "journey_quarter.to_csv('quarter/journey_quarter.csv', index=False)\n",
    "journey_year.to_csv('journey_year.csv', index=False)"
   ]
  }
 ],
 "metadata": {
  "kernelspec": {
   "display_name": "Python 3 (ipykernel)",
   "language": "python",
   "name": "python3"
  },
  "language_info": {
   "codemirror_mode": {
    "name": "ipython",
    "version": 3
   },
   "file_extension": ".py",
   "mimetype": "text/x-python",
   "name": "python",
   "nbconvert_exporter": "python",
   "pygments_lexer": "ipython3",
   "version": "3.11.7"
  }
 },
 "nbformat": 4,
 "nbformat_minor": 5
}
