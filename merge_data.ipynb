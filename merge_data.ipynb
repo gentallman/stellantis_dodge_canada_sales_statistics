{
 "cells": [
  {
   "cell_type": "code",
   "execution_count": 1,
   "id": "d60be003",
   "metadata": {},
   "outputs": [],
   "source": [
    "import pandas as pd"
   ]
  },
  {
   "cell_type": "markdown",
   "id": "c19ed608",
   "metadata": {},
   "source": [
    "## Month Merge"
   ]
  },
  {
   "cell_type": "code",
   "execution_count": 2,
   "id": "b1a841f8",
   "metadata": {},
   "outputs": [],
   "source": [
    "challenger_month = pd.read_csv(\"month/challenger_month.csv\")\n",
    "charger_month = pd.read_csv(\"month/charger_month.csv\")\n",
    "durango_month = pd.read_csv(\"month/durango_month.csv\")\n",
    "grand_carvan_month = pd.read_csv(\"month/grand_carvan_month.csv\")\n",
    "journey_month = pd.read_csv(\"month/journey_month.csv\")"
   ]
  },
  {
   "cell_type": "code",
   "execution_count": 3,
   "id": "df6fdee5",
   "metadata": {},
   "outputs": [],
   "source": [
    "challenger_month = challenger_month[:-1]\n",
    "challenger_month['model'] = 'challenger'"
   ]
  },
  {
   "cell_type": "code",
   "execution_count": 4,
   "id": "abd8138a",
   "metadata": {},
   "outputs": [],
   "source": [
    "charger_month = charger_month[:-1]\n",
    "charger_month['model'] = 'charger'"
   ]
  },
  {
   "cell_type": "code",
   "execution_count": 5,
   "id": "d6f1f88b",
   "metadata": {},
   "outputs": [],
   "source": [
    "durango_month = durango_month[:-1]\n",
    "durango_month['model'] = 'durango'"
   ]
  },
  {
   "cell_type": "code",
   "execution_count": 6,
   "id": "3f59d355",
   "metadata": {},
   "outputs": [],
   "source": [
    "grand_carvan_month = grand_carvan_month[:-1]\n",
    "grand_carvan_month['model'] = 'grand_carvan'"
   ]
  },
  {
   "cell_type": "code",
   "execution_count": 7,
   "id": "88a8d548",
   "metadata": {},
   "outputs": [],
   "source": [
    "journey_month = journey_month[:-1]\n",
    "journey_month['model'] = 'journey'"
   ]
  },
  {
   "cell_type": "code",
   "execution_count": 8,
   "id": "c65c3c46",
   "metadata": {},
   "outputs": [],
   "source": [
    "dfs = [challenger_month, charger_month, durango_month, grand_carvan_month, journey_month]\n",
    "\n",
    "dodge_month = pd.concat(dfs, axis=0, ignore_index=True)"
   ]
  },
  {
   "cell_type": "code",
   "execution_count": 9,
   "id": "71c2e95d",
   "metadata": {},
   "outputs": [],
   "source": [
    "dodge_month = dodge_month[['model', 'Year', 'Jan', 'Feb', 'Mar', 'Apr', 'May', 'Jun', 'Jul', 'Aug', 'Sep', 'Oct', 'Nov', 'Dec']]"
   ]
  },
  {
   "cell_type": "code",
   "execution_count": 10,
   "id": "d18ea4a9",
   "metadata": {},
   "outputs": [],
   "source": [
    "dodge_month.columns = map(str.lower, dodge_month.columns)"
   ]
  },
  {
   "cell_type": "code",
   "execution_count": 11,
   "id": "1c0b4710",
   "metadata": {},
   "outputs": [
    {
     "data": {
      "text/html": [
       "<div>\n",
       "<style scoped>\n",
       "    .dataframe tbody tr th:only-of-type {\n",
       "        vertical-align: middle;\n",
       "    }\n",
       "\n",
       "    .dataframe tbody tr th {\n",
       "        vertical-align: top;\n",
       "    }\n",
       "\n",
       "    .dataframe thead th {\n",
       "        text-align: right;\n",
       "    }\n",
       "</style>\n",
       "<table border=\"1\" class=\"dataframe\">\n",
       "  <thead>\n",
       "    <tr style=\"text-align: right;\">\n",
       "      <th></th>\n",
       "      <th>model</th>\n",
       "      <th>year</th>\n",
       "      <th>jan</th>\n",
       "      <th>feb</th>\n",
       "      <th>mar</th>\n",
       "      <th>apr</th>\n",
       "      <th>may</th>\n",
       "      <th>jun</th>\n",
       "      <th>jul</th>\n",
       "      <th>aug</th>\n",
       "      <th>sep</th>\n",
       "      <th>oct</th>\n",
       "      <th>nov</th>\n",
       "      <th>dec</th>\n",
       "    </tr>\n",
       "  </thead>\n",
       "  <tbody>\n",
       "    <tr>\n",
       "      <th>0</th>\n",
       "      <td>challenger</td>\n",
       "      <td>2008</td>\n",
       "      <td>-</td>\n",
       "      <td>-</td>\n",
       "      <td>-</td>\n",
       "      <td>-</td>\n",
       "      <td>2</td>\n",
       "      <td>80</td>\n",
       "      <td>464</td>\n",
       "      <td>122</td>\n",
       "      <td>228</td>\n",
       "      <td>246</td>\n",
       "      <td>284</td>\n",
       "      <td>205</td>\n",
       "    </tr>\n",
       "    <tr>\n",
       "      <th>1</th>\n",
       "      <td>challenger</td>\n",
       "      <td>2009</td>\n",
       "      <td>159</td>\n",
       "      <td>177</td>\n",
       "      <td>323</td>\n",
       "      <td>503</td>\n",
       "      <td>365</td>\n",
       "      <td>186</td>\n",
       "      <td>181</td>\n",
       "      <td>109</td>\n",
       "      <td>182</td>\n",
       "      <td>243</td>\n",
       "      <td>110</td>\n",
       "      <td>122</td>\n",
       "    </tr>\n",
       "    <tr>\n",
       "      <th>2</th>\n",
       "      <td>challenger</td>\n",
       "      <td>2010</td>\n",
       "      <td>124</td>\n",
       "      <td>198</td>\n",
       "      <td>430</td>\n",
       "      <td>614</td>\n",
       "      <td>371</td>\n",
       "      <td>285</td>\n",
       "      <td>299</td>\n",
       "      <td>196</td>\n",
       "      <td>265</td>\n",
       "      <td>121</td>\n",
       "      <td>123</td>\n",
       "      <td>71</td>\n",
       "    </tr>\n",
       "    <tr>\n",
       "      <th>3</th>\n",
       "      <td>challenger</td>\n",
       "      <td>2011</td>\n",
       "      <td>71</td>\n",
       "      <td>150</td>\n",
       "      <td>289</td>\n",
       "      <td>404</td>\n",
       "      <td>397</td>\n",
       "      <td>285</td>\n",
       "      <td>325</td>\n",
       "      <td>102</td>\n",
       "      <td>89</td>\n",
       "      <td>81</td>\n",
       "      <td>92</td>\n",
       "      <td>65</td>\n",
       "    </tr>\n",
       "    <tr>\n",
       "      <th>4</th>\n",
       "      <td>challenger</td>\n",
       "      <td>2012</td>\n",
       "      <td>67</td>\n",
       "      <td>84</td>\n",
       "      <td>337</td>\n",
       "      <td>189</td>\n",
       "      <td>173</td>\n",
       "      <td>165</td>\n",
       "      <td>162</td>\n",
       "      <td>89</td>\n",
       "      <td>80</td>\n",
       "      <td>42</td>\n",
       "      <td>56</td>\n",
       "      <td>41</td>\n",
       "    </tr>\n",
       "    <tr>\n",
       "      <th>...</th>\n",
       "      <td>...</td>\n",
       "      <td>...</td>\n",
       "      <td>...</td>\n",
       "      <td>...</td>\n",
       "      <td>...</td>\n",
       "      <td>...</td>\n",
       "      <td>...</td>\n",
       "      <td>...</td>\n",
       "      <td>...</td>\n",
       "      <td>...</td>\n",
       "      <td>...</td>\n",
       "      <td>...</td>\n",
       "      <td>...</td>\n",
       "      <td>...</td>\n",
       "    </tr>\n",
       "    <tr>\n",
       "      <th>57</th>\n",
       "      <td>journey</td>\n",
       "      <td>2015</td>\n",
       "      <td>1200</td>\n",
       "      <td>1582</td>\n",
       "      <td>1942</td>\n",
       "      <td>2474</td>\n",
       "      <td>2630</td>\n",
       "      <td>2031</td>\n",
       "      <td>2349</td>\n",
       "      <td>3020</td>\n",
       "      <td>1928</td>\n",
       "      <td>2030</td>\n",
       "      <td>2203</td>\n",
       "      <td>2257</td>\n",
       "    </tr>\n",
       "    <tr>\n",
       "      <th>58</th>\n",
       "      <td>journey</td>\n",
       "      <td>2016</td>\n",
       "      <td>1119</td>\n",
       "      <td>950</td>\n",
       "      <td>1430</td>\n",
       "      <td>1314</td>\n",
       "      <td>1408</td>\n",
       "      <td>1759</td>\n",
       "      <td>1586</td>\n",
       "      <td>1852</td>\n",
       "      <td>1199</td>\n",
       "      <td>1356</td>\n",
       "      <td>1465</td>\n",
       "      <td>1303</td>\n",
       "    </tr>\n",
       "    <tr>\n",
       "      <th>59</th>\n",
       "      <td>journey</td>\n",
       "      <td>2017</td>\n",
       "      <td>1388</td>\n",
       "      <td>1098</td>\n",
       "      <td>2027</td>\n",
       "      <td>1738</td>\n",
       "      <td>763</td>\n",
       "      <td>820</td>\n",
       "      <td>1096</td>\n",
       "      <td>597</td>\n",
       "      <td>813</td>\n",
       "      <td>1440</td>\n",
       "      <td>999</td>\n",
       "      <td>966</td>\n",
       "    </tr>\n",
       "    <tr>\n",
       "      <th>60</th>\n",
       "      <td>journey</td>\n",
       "      <td>2018</td>\n",
       "      <td>353</td>\n",
       "      <td>361</td>\n",
       "      <td>673</td>\n",
       "      <td>418</td>\n",
       "      <td>642</td>\n",
       "      <td>997</td>\n",
       "      <td>975</td>\n",
       "      <td>277</td>\n",
       "      <td>317</td>\n",
       "      <td>274</td>\n",
       "      <td>284</td>\n",
       "      <td>206</td>\n",
       "    </tr>\n",
       "    <tr>\n",
       "      <th>61</th>\n",
       "      <td>journey</td>\n",
       "      <td>2019</td>\n",
       "      <td>217</td>\n",
       "      <td>272</td>\n",
       "      <td>271</td>\n",
       "      <td>325</td>\n",
       "      <td>403</td>\n",
       "      <td>169</td>\n",
       "      <td>258</td>\n",
       "      <td>296</td>\n",
       "      <td>92</td>\n",
       "      <td>177</td>\n",
       "      <td>151</td>\n",
       "      <td>73</td>\n",
       "    </tr>\n",
       "  </tbody>\n",
       "</table>\n",
       "<p>62 rows × 14 columns</p>\n",
       "</div>"
      ],
      "text/plain": [
       "         model  year   jan   feb   mar   apr   may   jun   jul   aug   sep  \\\n",
       "0   challenger  2008     -     -     -     -     2    80   464   122   228   \n",
       "1   challenger  2009   159   177   323   503   365   186   181   109   182   \n",
       "2   challenger  2010   124   198   430   614   371   285   299   196   265   \n",
       "3   challenger  2011    71   150   289   404   397   285   325   102    89   \n",
       "4   challenger  2012    67    84   337   189   173   165   162    89    80   \n",
       "..         ...   ...   ...   ...   ...   ...   ...   ...   ...   ...   ...   \n",
       "57     journey  2015  1200  1582  1942  2474  2630  2031  2349  3020  1928   \n",
       "58     journey  2016  1119   950  1430  1314  1408  1759  1586  1852  1199   \n",
       "59     journey  2017  1388  1098  2027  1738   763   820  1096   597   813   \n",
       "60     journey  2018   353   361   673   418   642   997   975   277   317   \n",
       "61     journey  2019   217   272   271   325   403   169   258   296    92   \n",
       "\n",
       "     oct   nov   dec  \n",
       "0    246   284   205  \n",
       "1    243   110   122  \n",
       "2    121   123    71  \n",
       "3     81    92    65  \n",
       "4     42    56    41  \n",
       "..   ...   ...   ...  \n",
       "57  2030  2203  2257  \n",
       "58  1356  1465  1303  \n",
       "59  1440   999   966  \n",
       "60   274   284   206  \n",
       "61   177   151    73  \n",
       "\n",
       "[62 rows x 14 columns]"
      ]
     },
     "execution_count": 11,
     "metadata": {},
     "output_type": "execute_result"
    }
   ],
   "source": [
    "dodge_month"
   ]
  },
  {
   "cell_type": "code",
   "execution_count": 12,
   "id": "a28d6083",
   "metadata": {},
   "outputs": [],
   "source": [
    "dodge_month.to_csv('merge/dodge_month.csv', index=False)"
   ]
  },
  {
   "cell_type": "markdown",
   "id": "f149cc8e",
   "metadata": {},
   "source": [
    "## Quarter Merge"
   ]
  },
  {
   "cell_type": "code",
   "execution_count": 13,
   "id": "85b2529d",
   "metadata": {},
   "outputs": [],
   "source": [
    "challenger_quarter = pd.read_csv(\"quarter/challenger_quarter.csv\")\n",
    "charger_quarter = pd.read_csv(\"quarter/charger_quarter.csv\")\n",
    "durango_quarter = pd.read_csv(\"quarter/durango_quarter.csv\")\n",
    "grand_carvan_quarter = pd.read_csv(\"quarter/grand_carvan_quarter.csv\")\n",
    "journey_quarter = pd.read_csv(\"quarter/journey_quarter.csv\")"
   ]
  },
  {
   "cell_type": "code",
   "execution_count": 14,
   "id": "c56b7065",
   "metadata": {},
   "outputs": [],
   "source": [
    "challenger_quarter = challenger_quarter[:-1]\n",
    "challenger_quarter['model'] = 'challenger'\n",
    "\n",
    "charger_quarter = charger_quarter[:-1]\n",
    "charger_quarter['model'] = 'charger'\n",
    "\n",
    "durango_quarter = durango_quarter[:-1]\n",
    "durango_quarter['model'] = 'durango'\n",
    "\n",
    "grand_carvan_quarter = grand_carvan_quarter[:-1]\n",
    "grand_carvan_quarter['model'] = 'grand_carvan'\n",
    "\n",
    "journey_quarter = journey_quarter[:-1]\n",
    "journey_quarter['model'] = 'journey'"
   ]
  },
  {
   "cell_type": "code",
   "execution_count": 15,
   "id": "fdfe68fa",
   "metadata": {},
   "outputs": [],
   "source": [
    "dfs = [challenger_quarter, charger_quarter, durango_quarter, grand_carvan_quarter, journey_quarter]\n",
    "\n",
    "dodge_quarter = pd.concat(dfs, axis=0, ignore_index=True)"
   ]
  },
  {
   "cell_type": "code",
   "execution_count": 16,
   "id": "b8abefe2",
   "metadata": {},
   "outputs": [],
   "source": [
    "dodge_quarter = dodge_quarter[['model', 'Year', 'Q1', 'Q2', 'Q3', 'Q4']]\n",
    "dodge_quarter.columns = map(str.lower, dodge_quarter.columns)"
   ]
  },
  {
   "cell_type": "code",
   "execution_count": 17,
   "id": "464fd1f1",
   "metadata": {},
   "outputs": [],
   "source": [
    "dodge_quarter.to_csv('merge/dodge_quarter.csv', index=False)"
   ]
  },
  {
   "cell_type": "markdown",
   "id": "26c4156e",
   "metadata": {},
   "source": [
    "## Year Merge"
   ]
  },
  {
   "cell_type": "code",
   "execution_count": 18,
   "id": "7a0fe8f2",
   "metadata": {},
   "outputs": [],
   "source": [
    "challenger_year = pd.read_csv(\"year/challenger_year.csv\")\n",
    "charger_year = pd.read_csv(\"year/charger_year.csv\")\n",
    "durango_year = pd.read_csv(\"year/durango_year.csv\")\n",
    "grand_carvan_year = pd.read_csv(\"year/grand_carvan_year.csv\")\n",
    "journey_year = pd.read_csv(\"year/journey_year.csv\")"
   ]
  },
  {
   "cell_type": "code",
   "execution_count": 19,
   "id": "63e0e538",
   "metadata": {},
   "outputs": [],
   "source": [
    "challenger_year = challenger_year[:-1]\n",
    "challenger_year['model'] = 'challenger'\n",
    "\n",
    "charger_year = charger_year[:-1]\n",
    "charger_year['model'] = 'charger'\n",
    "\n",
    "durango_year = durango_year[:-1]\n",
    "durango_year['model'] = 'durango'\n",
    "\n",
    "grand_carvan_year = grand_carvan_year[:-1]\n",
    "grand_carvan_year['model'] = 'grand_carvan'\n",
    "\n",
    "journey_year = journey_year[:-1]\n",
    "journey_year['model'] = 'journey'"
   ]
  },
  {
   "cell_type": "code",
   "execution_count": 20,
   "id": "cbe65df2",
   "metadata": {},
   "outputs": [],
   "source": [
    "dfs = [challenger_year, charger_year, durango_year, grand_carvan_year, journey_year]\n",
    "\n",
    "dodge_year = pd.concat(dfs, axis=0, ignore_index=True)"
   ]
  },
  {
   "cell_type": "code",
   "execution_count": 21,
   "id": "1be477df",
   "metadata": {},
   "outputs": [],
   "source": [
    "dodge_year.to_csv('merge/dodge_year.csv', index=False)"
   ]
  }
 ],
 "metadata": {
  "kernelspec": {
   "display_name": "Python 3 (ipykernel)",
   "language": "python",
   "name": "python3"
  },
  "language_info": {
   "codemirror_mode": {
    "name": "ipython",
    "version": 3
   },
   "file_extension": ".py",
   "mimetype": "text/x-python",
   "name": "python",
   "nbconvert_exporter": "python",
   "pygments_lexer": "ipython3",
   "version": "3.11.7"
  }
 },
 "nbformat": 4,
 "nbformat_minor": 5
}
